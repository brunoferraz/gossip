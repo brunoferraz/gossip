{
 "cells": [
  {
   "cell_type": "code",
   "execution_count": 123,
   "metadata": {},
   "outputs": [],
   "source": [
    "import pandas as pd\n",
    "import numpy as np\n",
    "import seaborn as sns"
   ]
  },
  {
   "cell_type": "code",
   "execution_count": 21,
   "metadata": {},
   "outputs": [],
   "source": [
    "df = pd.read_csv(\"data/new_encoded.csv\", encoding='utf8',sep=';')\n",
    "# df.apply(lambda x: pd.api.types.infer_dtype(x.values))\n",
    "nova = ['data_hora',\n",
    "        'nome',#0 - String\n",
    "        'idade',#1 - Number\n",
    "        'sexo',#2 - Categórico\n",
    "        'cidade/estado',#3 - String\n",
    "        'escolaridade',#4 - Categórico\n",
    "        'profissao',#5 - String\n",
    "        'valor_fofoca',#6 - Categórico\n",
    "        'fofoca_sobre_mim_e',#7 - Categórico\n",
    "        'fofoca_e',#8 - Qualitatica ( open question )\n",
    "        'viver_sem_fofoca',#9 - Categórico\n",
    "        'voce_fofoca',#10 - Categórico\n",
    "        'o_que_e_fofoqueiro',#11 - Qualitativa (open question)\n",
    "        'se_acha_fofoqueiro',#12 - Categórico\n",
    "        'moralmente_ser_fofoqueiro',#13 - Categórico\n",
    "        'quem_fofoca_mais',#14 - Categórico\n",
    "        'que_idade_fofoca',#15 - CheckBox (open question)\n",
    "        'conhece_fofoqueiro',#16 - Categórico\n",
    "        'fofoca_sempre_negativo',#17 - Categórico\n",
    "        'temas_frequentes',#18 - Categórico\n",
    "        'temas_interessam',#19 - Qualitativa (open question)\n",
    "        'aprendeu_algo',#20 - Qualitativa ( open question )\n",
    "        'caso_interessante',#21 - Qualitativa ( open question )\n",
    "        'nao_e_assunto',#22 - Qualitativa ( open question )\n",
    "        'onde',#23 - Qualitativa ( open question )\n",
    "        'palavras_relacionadas',#24 - Checkbox ( open question )\n",
    "        'conhece_beneficiado',#25 - Categorico\n",
    "        'conhece_prejudicado',#26 - Categorico\n",
    "        'foi_prejudicado',#27 - Categorico\n",
    "        'prejudicou_alguem',#28 - Categorico\n",
    "        'sente_quando_conta',#29 - Qualitativa ( open question )\n",
    "        'sente_quando_ouve',#30 - Qualitativa ( open question )\n",
    "        'faz_ou_sente_sobre_conhecido',#31 - Qualitativa ( open question )\n",
    "        'na_internet',#32 - Qualitativa ( open question )\n",
    "        'termo_diferente',#33 - Qualitativa ( open question )\n",
    "        ]\n",
    "questions = df.columns\n",
    "df.columns = nova"
   ]
  },
  {
   "cell_type": "code",
   "execution_count": 112,
   "metadata": {},
   "outputs": [
    {
     "name": "stdout",
     "output_type": "stream",
     "text": [
      "Carimbo de data/hora\n",
      "NOME, APELIDO, OU NÚMERO (PARA CONTROLE INTERNO)\n",
      "1-\tQUAL A SUA IDADE?\n",
      "2-\tQUAL O SEU SEXO?\n",
      "3-\tQUAL A SUA CIDADE E ESTADO?\n",
      "4-\tQUAL A SUA ESCOLARIDADE?\n",
      "5-\tQUAL A SUA PROFISSÃO/OCUPAÇÃO?\n",
      "6-\tVOCÊ PENSA NA FOFOCA COMO UMA COISA: \n",
      "7-\tQUANDO A FOFOCA É A SEU RESPEITO, VOCÊ ACHA ISSO:\n",
      "8-\tPARA VOCÊ, O QUE É A FOFOCA? (ESCREVA UMA DEFINIÇÃO) \n",
      "9-    É POSSÍVEL VIVER SEM FOFOCAR?\n",
      "10-\tVOCÊ FOFOCA: \n",
      "11- PARA VOCÊ O QUE É UM(A) FOFOQUEIRO(A)?\n",
      "12-\tVOCÊ SE ACHA FOFOQUEIRO(A)?\n",
      "13-\tVOCÊ ACHA QUE (MORALMENTE) SER FOFOQUEIRO É:\n",
      "14 - QUEM VOCÊ ACHA QUE FOFOCA MAIS?\n",
      "15 - EM QUAL IDADE SE FOFOCA MAIS ? (marque no máximo 2)\n",
      "16-\tVOCÊ CONHECE PESSOALMENTE UMA PESSOA FOFOQUEIRA?\n",
      "17- VOCÊ ACHA QUE O QUE SE FALA NA FOFOCA É SEMPRE NEGATIVO?\n",
      "18-\tQUAIS TEMAS VOCÊ ACHA MAIS FREQUENTES NA FOFOCA? (MARQUE TODAS QUE SE APLICAM)\n",
      "19-\tQUE TEMA(S) TE INTERESSA(M) MAIS EM UMA FOFOCA?\n",
      "20- VOCÊ JÁ APRENDEU ALGO QUE PUDESSE USAR PARA A SUA VIDA NUMA FOFOCA? SE SIM, O QUÊ?\n",
      "21-\tVOCÊ CONHECE ALGUM CASO INTERESSANTE DE FOFOCA? GOSTARIA DE CONTÁ-LO RESUMIDAMENTE? (não precisa dar nomes)\n",
      "22-\tO QUE VOCÊ ACHA QUE NÃO É ASSUNTO DE FOFOCA?OU O QUE NÃO É FOFOCA?\n",
      "23-\tONDE AS PESSOAS FOFOCAM MAIS (em que lugares ou situações)?\n",
      "24- MARQUE AS OPÇÕES QUE VOCÊ ACHA RELACIONADAS À FOFOCA: (quantas quiser)\n",
      "25-\tVOCÊ CONHECE ALGUMA FOFOCA QUE AJUDOU ALGUÉM?\n",
      "26-\tVOCÊ CONHECE ALGUMA FOFOCA QUE PREJUDICOU ALGUÉM? \n",
      "27-\tVOCÊ JÁ FOI PREJUDICADO(A) POR UMA FOFOCA NEGATIVA? \n",
      "28- VOCÊ JÁ PREJUDICOU ALGUÉM COM UMA FOFOCA NEGATIVA?\n",
      "29- O QUE VOCÊ SENTE QUANDO FAZ (CONTA) UMA FOFOCA?\n",
      "30- O QUE VOCÊ SENTE QUANDO OUVE UMA FOFOCA?\n",
      "31-\tO QUE VOCÊ FAZ OU SENTE QUANDO CHEGA ATÉ VOCÊ FOFOCA SOBRE UMA PESSOA QUE É SUA AMIGA OU PARENTE QUERIDO?\n",
      "32- VOCÊ ACHA QUE TAMBÉM SE PODE FOFOCAR POR ESCRITO OU PELA INTERNET? SE SIM, COMO ACHA QUE MAIS SE FOFOCA HOJE EM DIA (PELA FALA PRESENCIAL OU PELA INTERNET)?\n",
      "33-\t CONHECE ALGUM TERMO DIFERENTE, CURIOSO OU REGIONAL PARA DIZER “FOFOCA” OU “FOFOQUEIRO” QUE NÃO TENHA SIDO MENCIONADO AQUI? SE SIM, QUAL (QUAIS)?\n"
     ]
    }
   ],
   "source": [
    "for i in questions:\n",
    "    print(i)"
   ]
  },
  {
   "cell_type": "code",
   "execution_count": 83,
   "metadata": {},
   "outputs": [
    {
     "data": {
      "text/plain": [
       "'MENTIRA, BOATO, CONFUSÃO, INTIMIDADE, CURIOSIDADE, SUSSURRO, CONTROLE, ESCONDIDO, NOVIDADE, FUXICO, MANIPULAÇÃO, COXIXO'"
      ]
     },
     "execution_count": 83,
     "metadata": {},
     "output_type": "execute_result"
    }
   ],
   "source": [
    "palavras_relacionadas = df[\"palavras_relacionadas\"][-10:]\n",
    "palavras_relacionadas[131]"
   ]
  },
  {
   "cell_type": "code",
   "execution_count": 106,
   "metadata": {},
   "outputs": [
    {
     "data": {
      "text/plain": [
       "'ALEGRIA POR COMPARTILHAR ALGO QUE EU SEI, ALÍVIO'"
      ]
     },
     "execution_count": 106,
     "metadata": {},
     "output_type": "execute_result"
    }
   ],
   "source": [
    "sente_quando_conta = df['sente_quando_conta'][:5]\n",
    "sente_quando_conta[1]"
   ]
  },
  {
   "cell_type": "code",
   "execution_count": 85,
   "metadata": {},
   "outputs": [],
   "source": [
    "from leia import SentimentIntensityAnalyzer\n",
    "sentiment = SentimentIntensityAnalyzer()\n",
    "\n",
    "def discretizacao_sentimento(review: str):\n",
    "    sentiment_dict = sentiment.polarity_scores(review)\n",
    "    # compound é uma média ponderada dos valores que compõem o sentimento\n",
    "    cmp = sentiment_dict['compound']\n",
    "    # rating = round(0.5 * (1 + 5 + (cmp * (5 - 1))))\n",
    "    rating = cmp\n",
    "    return rating"
   ]
  },
  {
   "cell_type": "code",
   "execution_count": 111,
   "metadata": {},
   "outputs": [
    {
     "data": {
      "text/plain": [
       "-0.1531"
      ]
     },
     "execution_count": 111,
     "metadata": {},
     "output_type": "execute_result"
    }
   ],
   "source": [
    "discretizacao_sentimento(palavras_relacionadas[131])"
   ]
  },
  {
   "cell_type": "code",
   "execution_count": 127,
   "metadata": {},
   "outputs": [],
   "source": [
    "df[\"sentimento\"] = df['sente_quando_conta'].apply(lambda x: discretizacao_sentimento(review=x) if(np.all(pd.notnull(x))) else 5)"
   ]
  },
  {
   "cell_type": "code",
   "execution_count": 119,
   "metadata": {},
   "outputs": [
    {
     "data": {
      "text/plain": [
       "0                                                 NORMAL\n",
       "1       ALEGRIA POR COMPARTILHAR ALGO QUE EU SEI, ALÍVIO\n",
       "2                                      PRAZER E VERGONHA\n",
       "3                                                 NORMAL\n",
       "4                                             SATISFAÇÃO\n",
       "                             ...                        \n",
       "132    Nada específico, se for algo assumidamente mal...\n",
       "133                                                  NaN\n",
       "134                                   Geralmente culpada\n",
       "135    Nada pq não dou continuação e qdo veem.me fala...\n",
       "136                                                  NaN\n",
       "Name: sente_quando_conta, Length: 137, dtype: object"
      ]
     },
     "execution_count": 119,
     "metadata": {},
     "output_type": "execute_result"
    }
   ],
   "source": [
    "df['sente_quando_conta']"
   ]
  },
  {
   "cell_type": "code",
   "execution_count": 128,
   "metadata": {},
   "outputs": [
    {
     "data": {
      "image/png": "[encoded data removed]",
      "text/plain": [
       "<Figure size 640x480 with 1 Axes>"
      ]
     },
     "metadata": {},
     "output_type": "display_data"
    }
   ],
   "source": [
    "df[\"sentimento\"]\n",
    "sns.histplot(data=df, x=\"sentimento\");"
   ]
  },
  {
   "cell_type": "code",
   "execution_count": 129,
   "metadata": {},
   "outputs": [
    {
     "data": {
      "text/plain": [
       "0      0.0000\n",
       "1      0.8176\n",
       "2      0.2732\n",
       "3      0.0000\n",
       "4      0.3612\n",
       "        ...  \n",
       "132   -0.4243\n",
       "133    5.0000\n",
       "134    0.0000\n",
       "135   -0.2960\n",
       "136    5.0000\n",
       "Name: sentimento, Length: 137, dtype: float64"
      ]
     },
     "execution_count": 129,
     "metadata": {},
     "output_type": "execute_result"
    }
   ],
   "source": [
    "df[\"sentimento\"]"
   ]
  },
  {
   "cell_type": "code",
   "execution_count": 148,
   "metadata": {},
   "outputs": [
    {
     "data": {
      "text/plain": [
       "{'neg': 0.0, 'neu': 0.37, 'pos': 0.63, 'compound': 0.8176}"
      ]
     },
     "execution_count": 148,
     "metadata": {},
     "output_type": "execute_result"
    }
   ],
   "source": [
    "sentiment.polarity_scores(\"ALEGRIA POR COMPARTILHAR ALGO QUE EU SEI, ALÍVIO\")\n"
   ]
  },
  {
   "cell_type": "markdown",
   "metadata": {},
   "source": [
    "não acho nada\n",
    "isso nao é ruim\n",
    "ALEGRIA POR COMPARTILHAR ALGO QUE EU SEI, ALÍVIO\n"
   ]
  }
 ],
 "metadata": {
  "kernelspec": {
   "display_name": "Python 3.9.10 ('env': venv)",
   "language": "python",
   "name": "python3"
  },
  "language_info": {
   "codemirror_mode": {
    "name": "ipython",
    "version": 3
   },
   "file_extension": ".py",
   "mimetype": "text/x-python",
   "name": "python",
   "nbconvert_exporter": "python",
   "pygments_lexer": "ipython3",
   "version": "3.9.10"
  },
  "orig_nbformat": 4,
  "vscode": {
   "interpreter": {
    "hash": "f345c471f63aef7f7480f2d824b075cf082f6e51dafeef4c11240c74ebc1ff7a"
   }
  }
 },
 "nbformat": 4,
 "nbformat_minor": 2
}
